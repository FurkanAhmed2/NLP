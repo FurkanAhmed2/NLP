{
  "nbformat": 4,
  "nbformat_minor": 0,
  "metadata": {
    "colab": {
      "provenance": [],
      "gpuType": "T4",
      "authorship_tag": "ABX9TyOYNkx8bjFupLiOu8SIO0+x",
      "include_colab_link": true
    },
    "kernelspec": {
      "name": "python3",
      "display_name": "Python 3"
    },
    "language_info": {
      "name": "python"
    },
    "accelerator": "GPU"
  },
  "cells": [
    {
      "cell_type": "markdown",
      "metadata": {
        "id": "view-in-github",
        "colab_type": "text"
      },
      "source": [
        "<a href=\"https://colab.research.google.com/github/FurkanAhmed2/NLP/blob/main/Word_Embedding.ipynb\" target=\"_parent\"><img src=\"https://colab.research.google.com/assets/colab-badge.svg\" alt=\"Open In Colab\"/></a>"
      ]
    },
    {
      "cell_type": "code",
      "execution_count": 2,
      "metadata": {
        "colab": {
          "base_uri": "https://localhost:8080/"
        },
        "id": "7tzvEwAGdodP",
        "outputId": "461e0423-a5bd-4034-ebb3-d90e8d50b707"
      },
      "outputs": [
        {
          "output_type": "stream",
          "name": "stdout",
          "text": [
            "Requirement already satisfied: tensorflow in /usr/local/lib/python3.10/dist-packages (2.15.0)\n",
            "Requirement already satisfied: absl-py>=1.0.0 in /usr/local/lib/python3.10/dist-packages (from tensorflow) (1.4.0)\n",
            "Requirement already satisfied: astunparse>=1.6.0 in /usr/local/lib/python3.10/dist-packages (from tensorflow) (1.6.3)\n",
            "Requirement already satisfied: flatbuffers>=23.5.26 in /usr/local/lib/python3.10/dist-packages (from tensorflow) (24.3.7)\n",
            "Requirement already satisfied: gast!=0.5.0,!=0.5.1,!=0.5.2,>=0.2.1 in /usr/local/lib/python3.10/dist-packages (from tensorflow) (0.5.4)\n",
            "Requirement already satisfied: google-pasta>=0.1.1 in /usr/local/lib/python3.10/dist-packages (from tensorflow) (0.2.0)\n",
            "Requirement already satisfied: h5py>=2.9.0 in /usr/local/lib/python3.10/dist-packages (from tensorflow) (3.9.0)\n",
            "Requirement already satisfied: libclang>=13.0.0 in /usr/local/lib/python3.10/dist-packages (from tensorflow) (18.1.1)\n",
            "Requirement already satisfied: ml-dtypes~=0.2.0 in /usr/local/lib/python3.10/dist-packages (from tensorflow) (0.2.0)\n",
            "Requirement already satisfied: numpy<2.0.0,>=1.23.5 in /usr/local/lib/python3.10/dist-packages (from tensorflow) (1.25.2)\n",
            "Requirement already satisfied: opt-einsum>=2.3.2 in /usr/local/lib/python3.10/dist-packages (from tensorflow) (3.3.0)\n",
            "Requirement already satisfied: packaging in /usr/local/lib/python3.10/dist-packages (from tensorflow) (24.0)\n",
            "Requirement already satisfied: protobuf!=4.21.0,!=4.21.1,!=4.21.2,!=4.21.3,!=4.21.4,!=4.21.5,<5.0.0dev,>=3.20.3 in /usr/local/lib/python3.10/dist-packages (from tensorflow) (3.20.3)\n",
            "Requirement already satisfied: setuptools in /usr/local/lib/python3.10/dist-packages (from tensorflow) (67.7.2)\n",
            "Requirement already satisfied: six>=1.12.0 in /usr/local/lib/python3.10/dist-packages (from tensorflow) (1.16.0)\n",
            "Requirement already satisfied: termcolor>=1.1.0 in /usr/local/lib/python3.10/dist-packages (from tensorflow) (2.4.0)\n",
            "Requirement already satisfied: typing-extensions>=3.6.6 in /usr/local/lib/python3.10/dist-packages (from tensorflow) (4.10.0)\n",
            "Requirement already satisfied: wrapt<1.15,>=1.11.0 in /usr/local/lib/python3.10/dist-packages (from tensorflow) (1.14.1)\n",
            "Requirement already satisfied: tensorflow-io-gcs-filesystem>=0.23.1 in /usr/local/lib/python3.10/dist-packages (from tensorflow) (0.36.0)\n",
            "Requirement already satisfied: grpcio<2.0,>=1.24.3 in /usr/local/lib/python3.10/dist-packages (from tensorflow) (1.62.1)\n",
            "Requirement already satisfied: tensorboard<2.16,>=2.15 in /usr/local/lib/python3.10/dist-packages (from tensorflow) (2.15.2)\n",
            "Requirement already satisfied: tensorflow-estimator<2.16,>=2.15.0 in /usr/local/lib/python3.10/dist-packages (from tensorflow) (2.15.0)\n",
            "Requirement already satisfied: keras<2.16,>=2.15.0 in /usr/local/lib/python3.10/dist-packages (from tensorflow) (2.15.0)\n",
            "Requirement already satisfied: wheel<1.0,>=0.23.0 in /usr/local/lib/python3.10/dist-packages (from astunparse>=1.6.0->tensorflow) (0.43.0)\n",
            "Requirement already satisfied: google-auth<3,>=1.6.3 in /usr/local/lib/python3.10/dist-packages (from tensorboard<2.16,>=2.15->tensorflow) (2.27.0)\n",
            "Requirement already satisfied: google-auth-oauthlib<2,>=0.5 in /usr/local/lib/python3.10/dist-packages (from tensorboard<2.16,>=2.15->tensorflow) (1.2.0)\n",
            "Requirement already satisfied: markdown>=2.6.8 in /usr/local/lib/python3.10/dist-packages (from tensorboard<2.16,>=2.15->tensorflow) (3.6)\n",
            "Requirement already satisfied: requests<3,>=2.21.0 in /usr/local/lib/python3.10/dist-packages (from tensorboard<2.16,>=2.15->tensorflow) (2.31.0)\n",
            "Requirement already satisfied: tensorboard-data-server<0.8.0,>=0.7.0 in /usr/local/lib/python3.10/dist-packages (from tensorboard<2.16,>=2.15->tensorflow) (0.7.2)\n",
            "Requirement already satisfied: werkzeug>=1.0.1 in /usr/local/lib/python3.10/dist-packages (from tensorboard<2.16,>=2.15->tensorflow) (3.0.1)\n",
            "Requirement already satisfied: cachetools<6.0,>=2.0.0 in /usr/local/lib/python3.10/dist-packages (from google-auth<3,>=1.6.3->tensorboard<2.16,>=2.15->tensorflow) (5.3.3)\n",
            "Requirement already satisfied: pyasn1-modules>=0.2.1 in /usr/local/lib/python3.10/dist-packages (from google-auth<3,>=1.6.3->tensorboard<2.16,>=2.15->tensorflow) (0.3.0)\n",
            "Requirement already satisfied: rsa<5,>=3.1.4 in /usr/local/lib/python3.10/dist-packages (from google-auth<3,>=1.6.3->tensorboard<2.16,>=2.15->tensorflow) (4.9)\n",
            "Requirement already satisfied: requests-oauthlib>=0.7.0 in /usr/local/lib/python3.10/dist-packages (from google-auth-oauthlib<2,>=0.5->tensorboard<2.16,>=2.15->tensorflow) (1.4.0)\n",
            "Requirement already satisfied: charset-normalizer<4,>=2 in /usr/local/lib/python3.10/dist-packages (from requests<3,>=2.21.0->tensorboard<2.16,>=2.15->tensorflow) (3.3.2)\n",
            "Requirement already satisfied: idna<4,>=2.5 in /usr/local/lib/python3.10/dist-packages (from requests<3,>=2.21.0->tensorboard<2.16,>=2.15->tensorflow) (3.6)\n",
            "Requirement already satisfied: urllib3<3,>=1.21.1 in /usr/local/lib/python3.10/dist-packages (from requests<3,>=2.21.0->tensorboard<2.16,>=2.15->tensorflow) (2.0.7)\n",
            "Requirement already satisfied: certifi>=2017.4.17 in /usr/local/lib/python3.10/dist-packages (from requests<3,>=2.21.0->tensorboard<2.16,>=2.15->tensorflow) (2024.2.2)\n",
            "Requirement already satisfied: MarkupSafe>=2.1.1 in /usr/local/lib/python3.10/dist-packages (from werkzeug>=1.0.1->tensorboard<2.16,>=2.15->tensorflow) (2.1.5)\n",
            "Requirement already satisfied: pyasn1<0.6.0,>=0.4.6 in /usr/local/lib/python3.10/dist-packages (from pyasn1-modules>=0.2.1->google-auth<3,>=1.6.3->tensorboard<2.16,>=2.15->tensorflow) (0.5.1)\n",
            "Requirement already satisfied: oauthlib>=3.0.0 in /usr/local/lib/python3.10/dist-packages (from requests-oauthlib>=0.7.0->google-auth-oauthlib<2,>=0.5->tensorboard<2.16,>=2.15->tensorflow) (3.2.2)\n"
          ]
        }
      ],
      "source": [
        "!pip install tensorflow"
      ]
    },
    {
      "cell_type": "code",
      "source": [
        "import tensorflow as tf\n",
        "print(tf.__version__)"
      ],
      "metadata": {
        "colab": {
          "base_uri": "https://localhost:8080/"
        },
        "id": "Cx-6zs5VgBj9",
        "outputId": "28ff7f3e-8d5d-40ca-a00d-f48ad28e20d6"
      },
      "execution_count": 3,
      "outputs": [
        {
          "output_type": "stream",
          "name": "stdout",
          "text": [
            "2.15.0\n"
          ]
        }
      ]
    },
    {
      "cell_type": "code",
      "source": [
        "from tensorflow.keras.preprocessing.text import one_hot"
      ],
      "metadata": {
        "id": "g9KBLM9cgG-c"
      },
      "execution_count": 4,
      "outputs": []
    },
    {
      "cell_type": "code",
      "source": [
        "### sentences\n",
        "sent=[  'the glass of milk',\n",
        "     'the glass of juice',\n",
        "     'the cup of tea',\n",
        "    'I am a good boy',\n",
        "     'I am a good developer',\n",
        "     'understand the meaning of words',\n",
        "     'your videos are good']"
      ],
      "metadata": {
        "id": "FeJxsnqWgKml"
      },
      "execution_count": 5,
      "outputs": []
    },
    {
      "cell_type": "code",
      "source": [
        "sent"
      ],
      "metadata": {
        "colab": {
          "base_uri": "https://localhost:8080/"
        },
        "id": "UVFRz4L4gNH0",
        "outputId": "1b41594e-0595-4ab9-a711-4759f54c78a8"
      },
      "execution_count": 6,
      "outputs": [
        {
          "output_type": "execute_result",
          "data": {
            "text/plain": [
              "['the glass of milk',\n",
              " 'the glass of juice',\n",
              " 'the cup of tea',\n",
              " 'I am a good boy',\n",
              " 'I am a good developer',\n",
              " 'understand the meaning of words',\n",
              " 'your videos are good']"
            ]
          },
          "metadata": {},
          "execution_count": 6
        }
      ]
    },
    {
      "cell_type": "code",
      "source": [
        "### Vocabulary size\n",
        "voc_size=500"
      ],
      "metadata": {
        "id": "xw4RVEflgQI8"
      },
      "execution_count": 7,
      "outputs": []
    },
    {
      "cell_type": "markdown",
      "source": [
        "**One Hot Representation**"
      ],
      "metadata": {
        "id": "NdMtnKh6gUdx"
      }
    },
    {
      "cell_type": "code",
      "source": [
        "onehot_repr=[one_hot(words,voc_size)for words in sent]\n",
        "print(onehot_repr)"
      ],
      "metadata": {
        "colab": {
          "base_uri": "https://localhost:8080/"
        },
        "id": "-KUy83qzgV4F",
        "outputId": "783d9b48-0831-47f4-9e3d-482f1c5a0f8c"
      },
      "execution_count": 8,
      "outputs": [
        {
          "output_type": "stream",
          "name": "stdout",
          "text": [
            "[[461, 386, 396, 361], [461, 386, 396, 52], [461, 57, 396, 120], [280, 384, 344, 102, 239], [280, 384, 344, 102, 216], [486, 461, 251, 396, 131], [244, 292, 147, 102]]\n"
          ]
        }
      ]
    },
    {
      "cell_type": "markdown",
      "source": [
        "**Word Embedding Represntation**"
      ],
      "metadata": {
        "id": "foo6gOLsgacM"
      }
    },
    {
      "cell_type": "code",
      "source": [
        "from tensorflow.keras.layers import Embedding\n",
        "from tensorflow.keras.preprocessing.sequence import pad_sequences\n",
        "from tensorflow.keras.models import Sequential"
      ],
      "metadata": {
        "id": "zBu7vQtvgbem"
      },
      "execution_count": 9,
      "outputs": []
    },
    {
      "cell_type": "code",
      "source": [
        "import numpy as np"
      ],
      "metadata": {
        "id": "joNGdCGQghFM"
      },
      "execution_count": 10,
      "outputs": []
    },
    {
      "cell_type": "code",
      "source": [
        "## pre padding\n",
        "sent_length=8\n",
        "embedded_docs=pad_sequences(onehot_repr,padding='pre',maxlen=sent_length)\n",
        "print(embedded_docs)"
      ],
      "metadata": {
        "colab": {
          "base_uri": "https://localhost:8080/"
        },
        "id": "FBJbXzrEglnj",
        "outputId": "35e98513-29e7-431f-bfb1-2ed677febed6"
      },
      "execution_count": 11,
      "outputs": [
        {
          "output_type": "stream",
          "name": "stdout",
          "text": [
            "[[  0   0   0   0 461 386 396 361]\n",
            " [  0   0   0   0 461 386 396  52]\n",
            " [  0   0   0   0 461  57 396 120]\n",
            " [  0   0   0 280 384 344 102 239]\n",
            " [  0   0   0 280 384 344 102 216]\n",
            " [  0   0   0 486 461 251 396 131]\n",
            " [  0   0   0   0 244 292 147 102]]\n"
          ]
        }
      ]
    },
    {
      "cell_type": "code",
      "source": [
        "## 10 feature dimesnions\n",
        "dim=10\n"
      ],
      "metadata": {
        "id": "_xY9ANjQgn3L"
      },
      "execution_count": 12,
      "outputs": []
    },
    {
      "cell_type": "code",
      "source": [
        "model=Sequential()\n",
        "model.add(Embedding(voc_size,10,input_length=sent_length))\n",
        "model.compile('adam','mse')"
      ],
      "metadata": {
        "id": "xu9PDse9gp_7"
      },
      "execution_count": 13,
      "outputs": []
    },
    {
      "cell_type": "code",
      "source": [
        "model.summary()"
      ],
      "metadata": {
        "colab": {
          "base_uri": "https://localhost:8080/"
        },
        "id": "s-96lcIxgsSN",
        "outputId": "e4525035-54d8-46d7-d30c-825b77459d40"
      },
      "execution_count": 14,
      "outputs": [
        {
          "output_type": "stream",
          "name": "stdout",
          "text": [
            "Model: \"sequential\"\n",
            "_________________________________________________________________\n",
            " Layer (type)                Output Shape              Param #   \n",
            "=================================================================\n",
            " embedding (Embedding)       (None, 8, 10)             5000      \n",
            "                                                                 \n",
            "=================================================================\n",
            "Total params: 5000 (19.53 KB)\n",
            "Trainable params: 5000 (19.53 KB)\n",
            "Non-trainable params: 0 (0.00 Byte)\n",
            "_________________________________________________________________\n"
          ]
        }
      ]
    },
    {
      "cell_type": "code",
      "source": [
        "##'the glass of milk',\n",
        "embedded_docs[0]"
      ],
      "metadata": {
        "colab": {
          "base_uri": "https://localhost:8080/"
        },
        "id": "cqtd69vggvEs",
        "outputId": "35645031-fca5-444d-f31d-c51caf1ced57"
      },
      "execution_count": 15,
      "outputs": [
        {
          "output_type": "execute_result",
          "data": {
            "text/plain": [
              "array([  0,   0,   0,   0, 461, 386, 396, 361], dtype=int32)"
            ]
          },
          "metadata": {},
          "execution_count": 15
        }
      ]
    },
    {
      "cell_type": "code",
      "source": [
        "model.predict(embedded_docs[0])"
      ],
      "metadata": {
        "colab": {
          "base_uri": "https://localhost:8080/"
        },
        "id": "FEJSte5Jgx78",
        "outputId": "b4b9e092-2874-458f-ac13-41de7426386f"
      },
      "execution_count": 16,
      "outputs": [
        {
          "output_type": "stream",
          "name": "stdout",
          "text": [
            "1/1 [==============================] - 0s 151ms/step\n"
          ]
        },
        {
          "output_type": "execute_result",
          "data": {
            "text/plain": [
              "array([[-0.03389844, -0.02361201, -0.03163394, -0.00176014, -0.04648435,\n",
              "        -0.02908915, -0.00371819, -0.04097742,  0.00837346,  0.04405787],\n",
              "       [-0.03389844, -0.02361201, -0.03163394, -0.00176014, -0.04648435,\n",
              "        -0.02908915, -0.00371819, -0.04097742,  0.00837346,  0.04405787],\n",
              "       [-0.03389844, -0.02361201, -0.03163394, -0.00176014, -0.04648435,\n",
              "        -0.02908915, -0.00371819, -0.04097742,  0.00837346,  0.04405787],\n",
              "       [-0.03389844, -0.02361201, -0.03163394, -0.00176014, -0.04648435,\n",
              "        -0.02908915, -0.00371819, -0.04097742,  0.00837346,  0.04405787],\n",
              "       [ 0.00715983,  0.01444845, -0.00252952,  0.03946844,  0.00954012,\n",
              "         0.03710802,  0.04221532,  0.02534019, -0.01721159,  0.0431549 ],\n",
              "       [-0.03379339, -0.01617091,  0.02547068, -0.02477738, -0.04144464,\n",
              "         0.00156355, -0.02955568, -0.04989513, -0.01884838, -0.00111379],\n",
              "       [ 0.04177752, -0.01899176,  0.03082721, -0.0485253 , -0.02711705,\n",
              "        -0.04024839,  0.04774994,  0.01669003, -0.01681668,  0.01274529],\n",
              "       [ 0.01552607,  0.0048538 ,  0.01680516,  0.0302406 , -0.01393981,\n",
              "         0.0484574 , -0.02372084,  0.0129455 , -0.00195744, -0.03311183]],\n",
              "      dtype=float32)"
            ]
          },
          "metadata": {},
          "execution_count": 16
        }
      ]
    },
    {
      "cell_type": "code",
      "source": [
        "print(model.predict(embedded_docs))"
      ],
      "metadata": {
        "colab": {
          "base_uri": "https://localhost:8080/"
        },
        "id": "Ua08BPOChzhd",
        "outputId": "b30eb399-f691-4d0e-a67d-0ca819f81de4"
      },
      "execution_count": 17,
      "outputs": [
        {
          "output_type": "stream",
          "name": "stdout",
          "text": [
            "1/1 [==============================] - 0s 52ms/step\n",
            "[[[-0.03389844 -0.02361201 -0.03163394 -0.00176014 -0.04648435\n",
            "   -0.02908915 -0.00371819 -0.04097742  0.00837346  0.04405787]\n",
            "  [-0.03389844 -0.02361201 -0.03163394 -0.00176014 -0.04648435\n",
            "   -0.02908915 -0.00371819 -0.04097742  0.00837346  0.04405787]\n",
            "  [-0.03389844 -0.02361201 -0.03163394 -0.00176014 -0.04648435\n",
            "   -0.02908915 -0.00371819 -0.04097742  0.00837346  0.04405787]\n",
            "  [-0.03389844 -0.02361201 -0.03163394 -0.00176014 -0.04648435\n",
            "   -0.02908915 -0.00371819 -0.04097742  0.00837346  0.04405787]\n",
            "  [ 0.00715983  0.01444845 -0.00252952  0.03946844  0.00954012\n",
            "    0.03710802  0.04221532  0.02534019 -0.01721159  0.0431549 ]\n",
            "  [-0.03379339 -0.01617091  0.02547068 -0.02477738 -0.04144464\n",
            "    0.00156355 -0.02955568 -0.04989513 -0.01884838 -0.00111379]\n",
            "  [ 0.04177752 -0.01899176  0.03082721 -0.0485253  -0.02711705\n",
            "   -0.04024839  0.04774994  0.01669003 -0.01681668  0.01274529]\n",
            "  [ 0.01552607  0.0048538   0.01680516  0.0302406  -0.01393981\n",
            "    0.0484574  -0.02372084  0.0129455  -0.00195744 -0.03311183]]\n",
            "\n",
            " [[-0.03389844 -0.02361201 -0.03163394 -0.00176014 -0.04648435\n",
            "   -0.02908915 -0.00371819 -0.04097742  0.00837346  0.04405787]\n",
            "  [-0.03389844 -0.02361201 -0.03163394 -0.00176014 -0.04648435\n",
            "   -0.02908915 -0.00371819 -0.04097742  0.00837346  0.04405787]\n",
            "  [-0.03389844 -0.02361201 -0.03163394 -0.00176014 -0.04648435\n",
            "   -0.02908915 -0.00371819 -0.04097742  0.00837346  0.04405787]\n",
            "  [-0.03389844 -0.02361201 -0.03163394 -0.00176014 -0.04648435\n",
            "   -0.02908915 -0.00371819 -0.04097742  0.00837346  0.04405787]\n",
            "  [ 0.00715983  0.01444845 -0.00252952  0.03946844  0.00954012\n",
            "    0.03710802  0.04221532  0.02534019 -0.01721159  0.0431549 ]\n",
            "  [-0.03379339 -0.01617091  0.02547068 -0.02477738 -0.04144464\n",
            "    0.00156355 -0.02955568 -0.04989513 -0.01884838 -0.00111379]\n",
            "  [ 0.04177752 -0.01899176  0.03082721 -0.0485253  -0.02711705\n",
            "   -0.04024839  0.04774994  0.01669003 -0.01681668  0.01274529]\n",
            "  [ 0.01274878 -0.03400292  0.00201891 -0.03430326 -0.01002521\n",
            "   -0.02648655  0.00525773  0.04389986  0.03074975 -0.01220747]]\n",
            "\n",
            " [[-0.03389844 -0.02361201 -0.03163394 -0.00176014 -0.04648435\n",
            "   -0.02908915 -0.00371819 -0.04097742  0.00837346  0.04405787]\n",
            "  [-0.03389844 -0.02361201 -0.03163394 -0.00176014 -0.04648435\n",
            "   -0.02908915 -0.00371819 -0.04097742  0.00837346  0.04405787]\n",
            "  [-0.03389844 -0.02361201 -0.03163394 -0.00176014 -0.04648435\n",
            "   -0.02908915 -0.00371819 -0.04097742  0.00837346  0.04405787]\n",
            "  [-0.03389844 -0.02361201 -0.03163394 -0.00176014 -0.04648435\n",
            "   -0.02908915 -0.00371819 -0.04097742  0.00837346  0.04405787]\n",
            "  [ 0.00715983  0.01444845 -0.00252952  0.03946844  0.00954012\n",
            "    0.03710802  0.04221532  0.02534019 -0.01721159  0.0431549 ]\n",
            "  [-0.04081147 -0.01070512 -0.00143508 -0.03764266  0.01250199\n",
            "   -0.0297025  -0.04742965 -0.04729788 -0.01453705 -0.00504839]\n",
            "  [ 0.04177752 -0.01899176  0.03082721 -0.0485253  -0.02711705\n",
            "   -0.04024839  0.04774994  0.01669003 -0.01681668  0.01274529]\n",
            "  [-0.00954845  0.03457627 -0.03713939  0.00657324 -0.00451601\n",
            "   -0.00829409  0.0188922  -0.0135291   0.01303548 -0.00203379]]\n",
            "\n",
            " [[-0.03389844 -0.02361201 -0.03163394 -0.00176014 -0.04648435\n",
            "   -0.02908915 -0.00371819 -0.04097742  0.00837346  0.04405787]\n",
            "  [-0.03389844 -0.02361201 -0.03163394 -0.00176014 -0.04648435\n",
            "   -0.02908915 -0.00371819 -0.04097742  0.00837346  0.04405787]\n",
            "  [-0.03389844 -0.02361201 -0.03163394 -0.00176014 -0.04648435\n",
            "   -0.02908915 -0.00371819 -0.04097742  0.00837346  0.04405787]\n",
            "  [ 0.0327262  -0.00453706 -0.03058701 -0.01266716  0.04669485\n",
            "   -0.03859363  0.01760635  0.0410325  -0.0140246  -0.03972774]\n",
            "  [ 0.00182749 -0.00599883  0.02339439  0.04972121 -0.04837281\n",
            "   -0.00072601 -0.04429631 -0.00207468  0.03350251  0.01351086]\n",
            "  [ 0.04882893  0.00457343 -0.03964762  0.03693518 -0.03789507\n",
            "    0.0221296   0.01196318 -0.02229309  0.03371512 -0.01211922]\n",
            "  [ 0.0460081   0.04800243 -0.01762326  0.04384449  0.04864129\n",
            "   -0.01035445  0.03640882  0.00763505  0.04514802 -0.0483393 ]\n",
            "  [-0.03890657 -0.01329235 -0.02645651 -0.03507435  0.0228335\n",
            "   -0.00947007  0.04164033 -0.00305148 -0.02913158  0.02581346]]\n",
            "\n",
            " [[-0.03389844 -0.02361201 -0.03163394 -0.00176014 -0.04648435\n",
            "   -0.02908915 -0.00371819 -0.04097742  0.00837346  0.04405787]\n",
            "  [-0.03389844 -0.02361201 -0.03163394 -0.00176014 -0.04648435\n",
            "   -0.02908915 -0.00371819 -0.04097742  0.00837346  0.04405787]\n",
            "  [-0.03389844 -0.02361201 -0.03163394 -0.00176014 -0.04648435\n",
            "   -0.02908915 -0.00371819 -0.04097742  0.00837346  0.04405787]\n",
            "  [ 0.0327262  -0.00453706 -0.03058701 -0.01266716  0.04669485\n",
            "   -0.03859363  0.01760635  0.0410325  -0.0140246  -0.03972774]\n",
            "  [ 0.00182749 -0.00599883  0.02339439  0.04972121 -0.04837281\n",
            "   -0.00072601 -0.04429631 -0.00207468  0.03350251  0.01351086]\n",
            "  [ 0.04882893  0.00457343 -0.03964762  0.03693518 -0.03789507\n",
            "    0.0221296   0.01196318 -0.02229309  0.03371512 -0.01211922]\n",
            "  [ 0.0460081   0.04800243 -0.01762326  0.04384449  0.04864129\n",
            "   -0.01035445  0.03640882  0.00763505  0.04514802 -0.0483393 ]\n",
            "  [ 0.01649269 -0.03490242 -0.02322888 -0.03026227  0.01252575\n",
            "    0.02608124  0.03362802  0.04423416 -0.02317078 -0.04257772]]\n",
            "\n",
            " [[-0.03389844 -0.02361201 -0.03163394 -0.00176014 -0.04648435\n",
            "   -0.02908915 -0.00371819 -0.04097742  0.00837346  0.04405787]\n",
            "  [-0.03389844 -0.02361201 -0.03163394 -0.00176014 -0.04648435\n",
            "   -0.02908915 -0.00371819 -0.04097742  0.00837346  0.04405787]\n",
            "  [-0.03389844 -0.02361201 -0.03163394 -0.00176014 -0.04648435\n",
            "   -0.02908915 -0.00371819 -0.04097742  0.00837346  0.04405787]\n",
            "  [ 0.01855924  0.00510738  0.02069391 -0.0185876  -0.02825434\n",
            "    0.01420951  0.02814988 -0.00976522 -0.03029644  0.03961295]\n",
            "  [ 0.00715983  0.01444845 -0.00252952  0.03946844  0.00954012\n",
            "    0.03710802  0.04221532  0.02534019 -0.01721159  0.0431549 ]\n",
            "  [ 0.04246094  0.03261157  0.00106644 -0.01885254 -0.02580546\n",
            "   -0.03400641 -0.0007627   0.01107233  0.00463723 -0.03449542]\n",
            "  [ 0.04177752 -0.01899176  0.03082721 -0.0485253  -0.02711705\n",
            "   -0.04024839  0.04774994  0.01669003 -0.01681668  0.01274529]\n",
            "  [-0.04911898 -0.03772596  0.02409935 -0.00208094  0.03757599\n",
            "   -0.00264657 -0.0099077  -0.0111361  -0.0401837  -0.02108147]]\n",
            "\n",
            " [[-0.03389844 -0.02361201 -0.03163394 -0.00176014 -0.04648435\n",
            "   -0.02908915 -0.00371819 -0.04097742  0.00837346  0.04405787]\n",
            "  [-0.03389844 -0.02361201 -0.03163394 -0.00176014 -0.04648435\n",
            "   -0.02908915 -0.00371819 -0.04097742  0.00837346  0.04405787]\n",
            "  [-0.03389844 -0.02361201 -0.03163394 -0.00176014 -0.04648435\n",
            "   -0.02908915 -0.00371819 -0.04097742  0.00837346  0.04405787]\n",
            "  [-0.03389844 -0.02361201 -0.03163394 -0.00176014 -0.04648435\n",
            "   -0.02908915 -0.00371819 -0.04097742  0.00837346  0.04405787]\n",
            "  [-0.01114011  0.04442484 -0.01449834 -0.01994568  0.01555567\n",
            "    0.03084388 -0.03419264 -0.04452651 -0.01612114 -0.0336017 ]\n",
            "  [ 0.01504642  0.003828    0.00014119 -0.00444313 -0.00760831\n",
            "    0.01014233  0.04222127  0.0288849   0.02863002 -0.00684382]\n",
            "  [-0.01418623 -0.00407736 -0.02478131 -0.04613458 -0.04408785\n",
            "    0.04736139 -0.0226657   0.02430477  0.02845075  0.03789553]\n",
            "  [ 0.0460081   0.04800243 -0.01762326  0.04384449  0.04864129\n",
            "   -0.01035445  0.03640882  0.00763505  0.04514802 -0.0483393 ]]]\n"
          ]
        }
      ]
    },
    {
      "cell_type": "code",
      "source": [
        "embedded_docs[0]"
      ],
      "metadata": {
        "colab": {
          "base_uri": "https://localhost:8080/"
        },
        "id": "n7YQO87nh6iA",
        "outputId": "04f2c0f7-a4ec-487d-d9e7-90abe04cd481"
      },
      "execution_count": 18,
      "outputs": [
        {
          "output_type": "execute_result",
          "data": {
            "text/plain": [
              "array([  0,   0,   0,   0, 461, 386, 396, 361], dtype=int32)"
            ]
          },
          "metadata": {},
          "execution_count": 18
        }
      ]
    },
    {
      "cell_type": "code",
      "source": [
        "print(model.predict(embedded_docs)[0])"
      ],
      "metadata": {
        "colab": {
          "base_uri": "https://localhost:8080/"
        },
        "id": "fNjPsmYkh9Zh",
        "outputId": "db41e214-21a6-4afd-de8b-0f9c9e44d1d9"
      },
      "execution_count": 19,
      "outputs": [
        {
          "output_type": "stream",
          "name": "stdout",
          "text": [
            "1/1 [==============================] - 0s 20ms/step\n",
            "[[-0.03389844 -0.02361201 -0.03163394 -0.00176014 -0.04648435 -0.02908915\n",
            "  -0.00371819 -0.04097742  0.00837346  0.04405787]\n",
            " [-0.03389844 -0.02361201 -0.03163394 -0.00176014 -0.04648435 -0.02908915\n",
            "  -0.00371819 -0.04097742  0.00837346  0.04405787]\n",
            " [-0.03389844 -0.02361201 -0.03163394 -0.00176014 -0.04648435 -0.02908915\n",
            "  -0.00371819 -0.04097742  0.00837346  0.04405787]\n",
            " [-0.03389844 -0.02361201 -0.03163394 -0.00176014 -0.04648435 -0.02908915\n",
            "  -0.00371819 -0.04097742  0.00837346  0.04405787]\n",
            " [ 0.00715983  0.01444845 -0.00252952  0.03946844  0.00954012  0.03710802\n",
            "   0.04221532  0.02534019 -0.01721159  0.0431549 ]\n",
            " [-0.03379339 -0.01617091  0.02547068 -0.02477738 -0.04144464  0.00156355\n",
            "  -0.02955568 -0.04989513 -0.01884838 -0.00111379]\n",
            " [ 0.04177752 -0.01899176  0.03082721 -0.0485253  -0.02711705 -0.04024839\n",
            "   0.04774994  0.01669003 -0.01681668  0.01274529]\n",
            " [ 0.01552607  0.0048538   0.01680516  0.0302406  -0.01393981  0.0484574\n",
            "  -0.02372084  0.0129455  -0.00195744 -0.03311183]]\n"
          ]
        }
      ]
    }
  ]
}